{
 "cells": [
  {
   "cell_type": "markdown",
   "metadata": {},
   "source": [
    "# 2013 Boston Marathon Data"
   ]
  },
  {
   "cell_type": "code",
   "execution_count": 1,
   "metadata": {
    "collapsed": true
   },
   "outputs": [],
   "source": [
    "import pandas as pd\n",
    "import numpy as np\n",
    "import matplotlib.pyplot as plt\n",
    "import seaborn as sns\n",
    "import scipy\n",
    "%matplotlib inline"
   ]
  },
  {
   "cell_type": "code",
   "execution_count": 2,
   "metadata": {},
   "outputs": [
    {
     "data": {
      "text/html": [
       "<div>\n",
       "<style>\n",
       "    .dataframe thead tr:only-child th {\n",
       "        text-align: right;\n",
       "    }\n",
       "\n",
       "    .dataframe thead th {\n",
       "        text-align: left;\n",
       "    }\n",
       "\n",
       "    .dataframe tbody tr th {\n",
       "        vertical-align: top;\n",
       "    }\n",
       "</style>\n",
       "<table border=\"1\" class=\"dataframe\">\n",
       "  <thead>\n",
       "    <tr style=\"text-align: right;\">\n",
       "      <th></th>\n",
       "      <th>25k</th>\n",
       "      <th>age</th>\n",
       "      <th>name</th>\n",
       "      <th>division</th>\n",
       "      <th>10k</th>\n",
       "      <th>gender</th>\n",
       "      <th>half</th>\n",
       "      <th>official</th>\n",
       "      <th>bib</th>\n",
       "      <th>ctz</th>\n",
       "      <th>...</th>\n",
       "      <th>overall</th>\n",
       "      <th>pace</th>\n",
       "      <th>state</th>\n",
       "      <th>30k</th>\n",
       "      <th>5k</th>\n",
       "      <th>genderdiv</th>\n",
       "      <th>20k</th>\n",
       "      <th>35k</th>\n",
       "      <th>city</th>\n",
       "      <th>40k</th>\n",
       "    </tr>\n",
       "  </thead>\n",
       "  <tbody>\n",
       "    <tr>\n",
       "      <th>0</th>\n",
       "      <td>49.87</td>\n",
       "      <td>28</td>\n",
       "      <td>Cassidy, Josh R.</td>\n",
       "      <td>9</td>\n",
       "      <td>18.18</td>\n",
       "      <td>M</td>\n",
       "      <td>40.93</td>\n",
       "      <td>90.90</td>\n",
       "      <td>W1</td>\n",
       "      <td>NaN</td>\n",
       "      <td>...</td>\n",
       "      <td>9</td>\n",
       "      <td>3.47</td>\n",
       "      <td>ON</td>\n",
       "      <td>62.07</td>\n",
       "      <td>8.90</td>\n",
       "      <td>9</td>\n",
       "      <td>38.80</td>\n",
       "      <td>74.73</td>\n",
       "      <td>Toronto</td>\n",
       "      <td>85.55</td>\n",
       "    </tr>\n",
       "    <tr>\n",
       "      <th>1</th>\n",
       "      <td>77.27</td>\n",
       "      <td>30</td>\n",
       "      <td>Korir, Wesley</td>\n",
       "      <td>5</td>\n",
       "      <td>30.90</td>\n",
       "      <td>M</td>\n",
       "      <td>64.90</td>\n",
       "      <td>132.50</td>\n",
       "      <td>1</td>\n",
       "      <td>NaN</td>\n",
       "      <td>...</td>\n",
       "      <td>5</td>\n",
       "      <td>5.07</td>\n",
       "      <td>NaN</td>\n",
       "      <td>92.97</td>\n",
       "      <td>15.90</td>\n",
       "      <td>5</td>\n",
       "      <td>61.52</td>\n",
       "      <td>108.78</td>\n",
       "      <td>Kenya</td>\n",
       "      <td>124.77</td>\n",
       "    </tr>\n",
       "    <tr>\n",
       "      <th>2</th>\n",
       "      <td>77.23</td>\n",
       "      <td>23</td>\n",
       "      <td>Desisa, Lelisa</td>\n",
       "      <td>1</td>\n",
       "      <td>30.90</td>\n",
       "      <td>M</td>\n",
       "      <td>64.92</td>\n",
       "      <td>130.37</td>\n",
       "      <td>2</td>\n",
       "      <td>NaN</td>\n",
       "      <td>...</td>\n",
       "      <td>1</td>\n",
       "      <td>4.98</td>\n",
       "      <td>NaN</td>\n",
       "      <td>92.72</td>\n",
       "      <td>15.93</td>\n",
       "      <td>1</td>\n",
       "      <td>61.53</td>\n",
       "      <td>108.68</td>\n",
       "      <td>Ambo</td>\n",
       "      <td>123.78</td>\n",
       "    </tr>\n",
       "    <tr>\n",
       "      <th>3</th>\n",
       "      <td>50.50</td>\n",
       "      <td>32</td>\n",
       "      <td>Fearnley, Kurt H.</td>\n",
       "      <td>5</td>\n",
       "      <td>18.73</td>\n",
       "      <td>M</td>\n",
       "      <td>42.00</td>\n",
       "      <td>88.43</td>\n",
       "      <td>W2</td>\n",
       "      <td>NaN</td>\n",
       "      <td>...</td>\n",
       "      <td>5</td>\n",
       "      <td>3.38</td>\n",
       "      <td>NaN</td>\n",
       "      <td>61.35</td>\n",
       "      <td>8.98</td>\n",
       "      <td>5</td>\n",
       "      <td>39.88</td>\n",
       "      <td>73.00</td>\n",
       "      <td>Hamilton</td>\n",
       "      <td>83.43</td>\n",
       "    </tr>\n",
       "    <tr>\n",
       "      <th>4</th>\n",
       "      <td>48.75</td>\n",
       "      <td>39</td>\n",
       "      <td>Hokinoue, Kota</td>\n",
       "      <td>3</td>\n",
       "      <td>18.18</td>\n",
       "      <td>M</td>\n",
       "      <td>40.57</td>\n",
       "      <td>87.22</td>\n",
       "      <td>W3</td>\n",
       "      <td>NaN</td>\n",
       "      <td>...</td>\n",
       "      <td>3</td>\n",
       "      <td>3.33</td>\n",
       "      <td>NaN</td>\n",
       "      <td>59.92</td>\n",
       "      <td>8.92</td>\n",
       "      <td>3</td>\n",
       "      <td>38.55</td>\n",
       "      <td>71.68</td>\n",
       "      <td>Iizuka</td>\n",
       "      <td>81.88</td>\n",
       "    </tr>\n",
       "  </tbody>\n",
       "</table>\n",
       "<p>5 rows × 21 columns</p>\n",
       "</div>"
      ],
      "text/plain": [
       "     25k  age               name  division    10k gender   half  official bib  \\\n",
       "0  49.87   28   Cassidy, Josh R.         9  18.18      M  40.93     90.90  W1   \n",
       "1  77.27   30      Korir, Wesley         5  30.90      M  64.90    132.50   1   \n",
       "2  77.23   23     Desisa, Lelisa         1  30.90      M  64.92    130.37   2   \n",
       "3  50.50   32  Fearnley, Kurt H.         5  18.73      M  42.00     88.43  W2   \n",
       "4  48.75   39     Hokinoue, Kota         3  18.18      M  40.57     87.22  W3   \n",
       "\n",
       "   ctz   ...   overall  pace  state    30k     5k genderdiv    20k     35k  \\\n",
       "0  NaN   ...         9  3.47     ON  62.07   8.90         9  38.80   74.73   \n",
       "1  NaN   ...         5  5.07    NaN  92.97  15.90         5  61.52  108.78   \n",
       "2  NaN   ...         1  4.98    NaN  92.72  15.93         1  61.53  108.68   \n",
       "3  NaN   ...         5  3.38    NaN  61.35   8.98         5  39.88   73.00   \n",
       "4  NaN   ...         3  3.33    NaN  59.92   8.92         3  38.55   71.68   \n",
       "\n",
       "       city     40k  \n",
       "0   Toronto   85.55  \n",
       "1     Kenya  124.77  \n",
       "2      Ambo  123.78  \n",
       "3  Hamilton   83.43  \n",
       "4    Iizuka   81.88  \n",
       "\n",
       "[5 rows x 21 columns]"
      ]
     },
     "execution_count": 2,
     "metadata": {},
     "output_type": "execute_result"
    }
   ],
   "source": [
    "df = pd.read_csv('boston_mar_results_2013.csv')\n",
    "df.head()"
   ]
  },
  {
   "cell_type": "code",
   "execution_count": 3,
   "metadata": {},
   "outputs": [
    {
     "data": {
      "text/plain": [
       "(16164, 21)"
      ]
     },
     "execution_count": 3,
     "metadata": {},
     "output_type": "execute_result"
    }
   ],
   "source": [
    "df.shape"
   ]
  },
  {
   "cell_type": "code",
   "execution_count": 4,
   "metadata": {},
   "outputs": [
    {
     "data": {
      "text/plain": [
       "<matplotlib.axes._subplots.AxesSubplot at 0x1dbd947acc0>"
      ]
     },
     "execution_count": 4,
     "metadata": {},
     "output_type": "execute_result"
    },
    {
     "data": {
      "image/png": "[encoded data removed]",
      "text/plain": [
       "<matplotlib.figure.Figure at 0x1dbd9490080>"
      ]
     },
     "metadata": {},
     "output_type": "display_data"
    }
   ],
   "source": [
    "sns.heatmap(df.isnull(), yticklabels=False, cbar=False, cmap='viridis')"
   ]
  },
  {
   "cell_type": "code",
   "execution_count": 3,
   "metadata": {
    "collapsed": true
   },
   "outputs": [],
   "source": [
    "# dropping ctz because of all the null values\n",
    "df.drop('ctz',inplace=True, axis=1)"
   ]
  },
  {
   "cell_type": "code",
   "execution_count": 4,
   "metadata": {
    "collapsed": true
   },
   "outputs": [],
   "source": [
    "# dropping the remaining states with na values\n",
    "df.dropna(inplace=True)"
   ]
  },
  {
   "cell_type": "code",
   "execution_count": 5,
   "metadata": {
    "collapsed": true
   },
   "outputs": [],
   "source": [
    "# instead of nulls, empty values were marked with a dash - so we need to clean these missing values\n",
    "df = df[df['5k']!='-']"
   ]
  },
  {
   "cell_type": "code",
   "execution_count": 6,
   "metadata": {
    "collapsed": true
   },
   "outputs": [],
   "source": [
    "# converting column to floats for later\n",
    "df['5k'] = pd.to_numeric(df['5k'])"
   ]
  },
  {
   "cell_type": "code",
   "execution_count": 7,
   "metadata": {
    "collapsed": true
   },
   "outputs": [],
   "source": [
    "# removing na values\n",
    "df = df[df['10k']!='-']"
   ]
  },
  {
   "cell_type": "code",
   "execution_count": 8,
   "metadata": {
    "collapsed": true
   },
   "outputs": [],
   "source": [
    "# converting column to floats for later\n",
    "df['10k'] = pd.to_numeric(df['10k'])"
   ]
  },
  {
   "cell_type": "code",
   "execution_count": 9,
   "metadata": {
    "collapsed": true
   },
   "outputs": [],
   "source": [
    "# removing na values\n",
    "df = df[df['20k']!='-']"
   ]
  },
  {
   "cell_type": "code",
   "execution_count": 10,
   "metadata": {
    "collapsed": true
   },
   "outputs": [],
   "source": [
    "# converting column to floats for later\n",
    "df['20k'] = pd.to_numeric(df['20k'])"
   ]
  },
  {
   "cell_type": "code",
   "execution_count": 11,
   "metadata": {
    "collapsed": true
   },
   "outputs": [],
   "source": [
    "# removing na values\n",
    "df = df[df['25k']!='-']"
   ]
  },
  {
   "cell_type": "code",
   "execution_count": 12,
   "metadata": {
    "collapsed": true
   },
   "outputs": [],
   "source": [
    "# converting column to floats for later\n",
    "df['25k'] = pd.to_numeric(df['25k'])"
   ]
  },
  {
   "cell_type": "code",
   "execution_count": 13,
   "metadata": {
    "collapsed": true
   },
   "outputs": [],
   "source": [
    "# removing na values\n",
    "df = df[df['30k']!='-']"
   ]
  },
  {
   "cell_type": "code",
   "execution_count": 14,
   "metadata": {
    "collapsed": true
   },
   "outputs": [],
   "source": [
    "# converting column to floats for later\n",
    "df['30k'] = pd.to_numeric(df['30k'])"
   ]
  },
  {
   "cell_type": "code",
   "execution_count": 15,
   "metadata": {
    "collapsed": true
   },
   "outputs": [],
   "source": [
    "# removing na values\n",
    "df = df[df['35k']!='-']"
   ]
  },
  {
   "cell_type": "code",
   "execution_count": 16,
   "metadata": {
    "collapsed": true
   },
   "outputs": [],
   "source": [
    "# converting column to floats for later\n",
    "df['35k'] = pd.to_numeric(df['35k'])"
   ]
  },
  {
   "cell_type": "code",
   "execution_count": 17,
   "metadata": {
    "collapsed": true
   },
   "outputs": [],
   "source": [
    "# removing na values\n",
    "df = df[df['40k']!='-']"
   ]
  },
  {
   "cell_type": "code",
   "execution_count": 18,
   "metadata": {
    "collapsed": true
   },
   "outputs": [],
   "source": [
    "# converting column to floats for later\n",
    "df['40k'] = pd.to_numeric(df['40k'])"
   ]
  },
  {
   "cell_type": "code",
   "execution_count": 19,
   "metadata": {
    "collapsed": true
   },
   "outputs": [],
   "source": [
    "# removing na values\n",
    "df = df[df['half']!='-']"
   ]
  },
  {
   "cell_type": "code",
   "execution_count": 20,
   "metadata": {
    "collapsed": true
   },
   "outputs": [],
   "source": [
    "# converting column to floats for later\n",
    "df['half'] = pd.to_numeric(df['half'])"
   ]
  },
  {
   "cell_type": "code",
   "execution_count": 21,
   "metadata": {},
   "outputs": [
    {
     "data": {
      "text/plain": [
       "(14609, 20)"
      ]
     },
     "execution_count": 21,
     "metadata": {},
     "output_type": "execute_result"
    }
   ],
   "source": [
    "df.shape"
   ]
  },
  {
   "cell_type": "code",
   "execution_count": 22,
   "metadata": {},
   "outputs": [
    {
     "data": {
      "text/plain": [
       "Index(['25k', 'age', 'name', 'division', '10k', 'gender', 'half', 'official',\n",
       "       'bib', 'country', 'overall', 'pace', 'state', '30k', '5k', 'genderdiv',\n",
       "       '20k', '35k', 'city', '40k'],\n",
       "      dtype='object')"
      ]
     },
     "execution_count": 22,
     "metadata": {},
     "output_type": "execute_result"
    }
   ],
   "source": [
    "df.columns"
   ]
  },
  {
   "cell_type": "code",
   "execution_count": 21,
   "metadata": {
    "collapsed": true
   },
   "outputs": [],
   "source": [
    "# creating dataframe for features\n",
    "features = pd.DataFrame()"
   ]
  },
  {
   "cell_type": "code",
   "execution_count": 22,
   "metadata": {
    "collapsed": true
   },
   "outputs": [],
   "source": [
    "# selecting features\n",
    "features = df[['age','5k','10k','20k','half','25k','30k','35k','40k','pace',\n",
    "               'division','genderdiv','gender','overall','official']]"
   ]
  },
  {
   "cell_type": "code",
   "execution_count": 23,
   "metadata": {},
   "outputs": [
    {
     "name": "stderr",
     "output_type": "stream",
     "text": [
      "C:\\Users\\etallen127\\AppData\\Local\\Continuum\\Anaconda3\\lib\\site-packages\\ipykernel_launcher.py:1: SettingWithCopyWarning: \n",
      "A value is trying to be set on a copy of a slice from a DataFrame.\n",
      "Try using .loc[row_indexer,col_indexer] = value instead\n",
      "\n",
      "See the caveats in the documentation: http://pandas.pydata.org/pandas-docs/stable/indexing.html#indexing-view-versus-copy\n",
      "  \"\"\"Entry point for launching an IPython kernel.\n"
     ]
    }
   ],
   "source": [
    "# creating category for gender\n",
    "features['gender'] = np.where(features['gender'] == 'M', 1, 0)"
   ]
  },
  {
   "cell_type": "code",
   "execution_count": 24,
   "metadata": {},
   "outputs": [
    {
     "name": "stderr",
     "output_type": "stream",
     "text": [
      "C:\\Users\\etallen127\\AppData\\Local\\Continuum\\Anaconda3\\lib\\site-packages\\sklearn\\cross_validation.py:41: DeprecationWarning: This module was deprecated in version 0.18 in favor of the model_selection module into which all the refactored classes and functions are moved. Also note that the interface of the new CV iterators are different from that of this module. This module will be removed in 0.20.\n",
      "  \"This module will be removed in 0.20.\", DeprecationWarning)\n"
     ]
    }
   ],
   "source": [
    "# imports \n",
    "from sklearn.metrics import adjusted_rand_score\n",
    "from sklearn.preprocessing import StandardScaler\n",
    "from sklearn.preprocessing import normalize"
   ]
  },
  {
   "cell_type": "code",
   "execution_count": 25,
   "metadata": {
    "collapsed": true
   },
   "outputs": [],
   "source": [
    "# selecting features to normalize and cluster\n",
    "X = features[['5k','10k','20k','half','25k','30k','35k','40k','pace','gender','genderdiv','division','overall','official','age']]"
   ]
  },
  {
   "cell_type": "markdown",
   "metadata": {},
   "source": [
    "## K-Means"
   ]
  },
  {
   "cell_type": "code",
   "execution_count": 26,
   "metadata": {
    "collapsed": true
   },
   "outputs": [],
   "source": [
    "# imports\n",
    "from sklearn.cluster import KMeans\n",
    "from sklearn.cluster import MiniBatchKMeans\n",
    "from sklearn.cluster import MeanShift, estimate_bandwidth\n",
    "from sklearn.cluster import SpectralClustering\n",
    "from sklearn.cluster import AffinityPropagation\n",
    "from itertools import cycle"
   ]
  },
  {
   "cell_type": "code",
   "execution_count": 27,
   "metadata": {},
   "outputs": [
    {
     "data": {
      "image/png": "[encoded data removed]",
      "text/plain": [
       "<matplotlib.figure.Figure at 0x1327ae12630>"
      ]
     },
     "metadata": {},
     "output_type": "display_data"
    }
   ],
   "source": [
    "# Normalize the data.\n",
    "X_norm = normalize(X)\n",
    "\n",
    "# Calculate predicted values.\n",
    "y_pred = KMeans(n_clusters=10, random_state=42).fit_predict(X_norm)\n",
    "\n",
    "# Plot the solution.\n",
    "plt.scatter(features['10k'], features['20k'], c=y_pred)\n",
    "plt.show()"
   ]
  },
  {
   "cell_type": "code",
   "execution_count": 36,
   "metadata": {},
   "outputs": [
    {
     "data": {
      "text/plain": [
       "0.053931077006710598"
      ]
     },
     "execution_count": 36,
     "metadata": {},
     "output_type": "execute_result"
    }
   ],
   "source": [
    "# testing cluster against age\n",
    "adjusted_rand_score(y_pred, y_train)\n",
    "# data is pretty random"
   ]
  },
  {
   "cell_type": "code",
   "execution_count": 37,
   "metadata": {},
   "outputs": [
    {
     "name": "stdout",
     "output_type": "stream",
     "text": [
      "0.537458219677\n"
     ]
    }
   ],
   "source": [
    "# imports\n",
    "from sklearn import metrics\n",
    "from sklearn.metrics import pairwise_distances\n",
    "model = KMeans(n_clusters=8, random_state=42).fit(X_norm)\n",
    "labels = model.labels_\n",
    "print(metrics.silhouette_score(X_norm, labels, metric='euclidean'))"
   ]
  },
  {
   "cell_type": "code",
   "execution_count": 57,
   "metadata": {},
   "outputs": [
    {
     "name": "stderr",
     "output_type": "stream",
     "text": [
      "C:\\Users\\etallen127\\AppData\\Local\\Continuum\\Anaconda3\\lib\\site-packages\\ipykernel_launcher.py:1: SettingWithCopyWarning: \n",
      "A value is trying to be set on a copy of a slice from a DataFrame.\n",
      "Try using .loc[row_indexer,col_indexer] = value instead\n",
      "\n",
      "See the caveats in the documentation: http://pandas.pydata.org/pandas-docs/stable/indexing.html#indexing-view-versus-copy\n",
      "  \"\"\"Entry point for launching an IPython kernel.\n"
     ]
    }
   ],
   "source": [
    "# adding group value back to features, plus 1 to make it prettier\n",
    "features['km_group'] = y_pred + 1"
   ]
  },
  {
   "cell_type": "code",
   "execution_count": 67,
   "metadata": {},
   "outputs": [
    {
     "data": {
      "text/html": [
       "<div>\n",
       "<style>\n",
       "    .dataframe thead tr:only-child th {\n",
       "        text-align: right;\n",
       "    }\n",
       "\n",
       "    .dataframe thead th {\n",
       "        text-align: left;\n",
       "    }\n",
       "\n",
       "    .dataframe tbody tr th {\n",
       "        vertical-align: top;\n",
       "    }\n",
       "</style>\n",
       "<table border=\"1\" class=\"dataframe\">\n",
       "  <thead>\n",
       "    <tr style=\"text-align: right;\">\n",
       "      <th></th>\n",
       "      <th>age</th>\n",
       "      <th>5k</th>\n",
       "      <th>10k</th>\n",
       "      <th>20k</th>\n",
       "      <th>half</th>\n",
       "      <th>25k</th>\n",
       "      <th>30k</th>\n",
       "      <th>35k</th>\n",
       "      <th>40k</th>\n",
       "      <th>pace</th>\n",
       "      <th>division</th>\n",
       "      <th>genderdiv</th>\n",
       "      <th>gender</th>\n",
       "      <th>overall</th>\n",
       "      <th>official</th>\n",
       "    </tr>\n",
       "    <tr>\n",
       "      <th>km_group</th>\n",
       "      <th></th>\n",
       "      <th></th>\n",
       "      <th></th>\n",
       "      <th></th>\n",
       "      <th></th>\n",
       "      <th></th>\n",
       "      <th></th>\n",
       "      <th></th>\n",
       "      <th></th>\n",
       "      <th></th>\n",
       "      <th></th>\n",
       "      <th></th>\n",
       "      <th></th>\n",
       "      <th></th>\n",
       "      <th></th>\n",
       "    </tr>\n",
       "  </thead>\n",
       "  <tbody>\n",
       "    <tr>\n",
       "      <th>5</th>\n",
       "      <td>31.428571</td>\n",
       "      <td>15.808286</td>\n",
       "      <td>31.816286</td>\n",
       "      <td>64.615929</td>\n",
       "      <td>68.100500</td>\n",
       "      <td>81.026643</td>\n",
       "      <td>98.447071</td>\n",
       "      <td>116.345500</td>\n",
       "      <td>133.392143</td>\n",
       "      <td>5.396857</td>\n",
       "      <td>40.421429</td>\n",
       "      <td>57.064286</td>\n",
       "      <td>0.95</td>\n",
       "      <td>64.264286</td>\n",
       "      <td>141.327357</td>\n",
       "    </tr>\n",
       "    <tr>\n",
       "      <th>9</th>\n",
       "      <td>31.037383</td>\n",
       "      <td>18.493832</td>\n",
       "      <td>36.878879</td>\n",
       "      <td>73.907991</td>\n",
       "      <td>77.923645</td>\n",
       "      <td>92.394766</td>\n",
       "      <td>111.459159</td>\n",
       "      <td>130.887477</td>\n",
       "      <td>150.528411</td>\n",
       "      <td>6.083785</td>\n",
       "      <td>178.677570</td>\n",
       "      <td>242.803738</td>\n",
       "      <td>1.00</td>\n",
       "      <td>261.808411</td>\n",
       "      <td>159.290140</td>\n",
       "    </tr>\n",
       "    <tr>\n",
       "      <th>1</th>\n",
       "      <td>30.391026</td>\n",
       "      <td>19.749343</td>\n",
       "      <td>39.342340</td>\n",
       "      <td>78.827131</td>\n",
       "      <td>83.119872</td>\n",
       "      <td>98.631715</td>\n",
       "      <td>119.069647</td>\n",
       "      <td>139.962067</td>\n",
       "      <td>161.042244</td>\n",
       "      <td>6.504247</td>\n",
       "      <td>649.516026</td>\n",
       "      <td>818.229167</td>\n",
       "      <td>1.00</td>\n",
       "      <td>866.315705</td>\n",
       "      <td>170.318734</td>\n",
       "    </tr>\n",
       "    <tr>\n",
       "      <th>6</th>\n",
       "      <td>45.434457</td>\n",
       "      <td>20.035955</td>\n",
       "      <td>39.910262</td>\n",
       "      <td>79.973820</td>\n",
       "      <td>84.329925</td>\n",
       "      <td>100.039963</td>\n",
       "      <td>120.716217</td>\n",
       "      <td>141.760712</td>\n",
       "      <td>162.803109</td>\n",
       "      <td>6.575318</td>\n",
       "      <td>84.711610</td>\n",
       "      <td>984.295880</td>\n",
       "      <td>1.00</td>\n",
       "      <td>1043.000000</td>\n",
       "      <td>172.193745</td>\n",
       "    </tr>\n",
       "    <tr>\n",
       "      <th>8</th>\n",
       "      <td>32.225070</td>\n",
       "      <td>21.398925</td>\n",
       "      <td>42.617721</td>\n",
       "      <td>85.479348</td>\n",
       "      <td>90.167933</td>\n",
       "      <td>107.235811</td>\n",
       "      <td>130.077070</td>\n",
       "      <td>154.016284</td>\n",
       "      <td>178.767047</td>\n",
       "      <td>7.238100</td>\n",
       "      <td>2046.369359</td>\n",
       "      <td>3379.893036</td>\n",
       "      <td>1.00</td>\n",
       "      <td>3860.015042</td>\n",
       "      <td>189.570908</td>\n",
       "    </tr>\n",
       "    <tr>\n",
       "      <th>10</th>\n",
       "      <td>47.545099</td>\n",
       "      <td>22.574648</td>\n",
       "      <td>44.960991</td>\n",
       "      <td>90.146577</td>\n",
       "      <td>95.083097</td>\n",
       "      <td>112.990004</td>\n",
       "      <td>136.759968</td>\n",
       "      <td>161.311499</td>\n",
       "      <td>186.045643</td>\n",
       "      <td>7.520842</td>\n",
       "      <td>578.572798</td>\n",
       "      <td>4531.565696</td>\n",
       "      <td>1.00</td>\n",
       "      <td>5357.440696</td>\n",
       "      <td>196.976776</td>\n",
       "    </tr>\n",
       "    <tr>\n",
       "      <th>4</th>\n",
       "      <td>33.912385</td>\n",
       "      <td>22.977661</td>\n",
       "      <td>45.730428</td>\n",
       "      <td>91.585264</td>\n",
       "      <td>96.587714</td>\n",
       "      <td>114.713933</td>\n",
       "      <td>138.639091</td>\n",
       "      <td>163.101192</td>\n",
       "      <td>187.363090</td>\n",
       "      <td>7.559960</td>\n",
       "      <td>517.288538</td>\n",
       "      <td>868.869565</td>\n",
       "      <td>0.00</td>\n",
       "      <td>5569.884058</td>\n",
       "      <td>198.003498</td>\n",
       "    </tr>\n",
       "    <tr>\n",
       "      <th>7</th>\n",
       "      <td>31.848415</td>\n",
       "      <td>25.094571</td>\n",
       "      <td>50.071341</td>\n",
       "      <td>100.858016</td>\n",
       "      <td>106.434221</td>\n",
       "      <td>126.936523</td>\n",
       "      <td>154.388420</td>\n",
       "      <td>182.912738</td>\n",
       "      <td>211.340257</td>\n",
       "      <td>8.533996</td>\n",
       "      <td>2478.969683</td>\n",
       "      <td>3746.512632</td>\n",
       "      <td>0.00</td>\n",
       "      <td>11886.433165</td>\n",
       "      <td>223.535531</td>\n",
       "    </tr>\n",
       "    <tr>\n",
       "      <th>2</th>\n",
       "      <td>51.738783</td>\n",
       "      <td>24.820350</td>\n",
       "      <td>49.678084</td>\n",
       "      <td>100.475878</td>\n",
       "      <td>106.062430</td>\n",
       "      <td>126.773943</td>\n",
       "      <td>154.926928</td>\n",
       "      <td>184.897901</td>\n",
       "      <td>215.677612</td>\n",
       "      <td>8.740255</td>\n",
       "      <td>1153.030798</td>\n",
       "      <td>8682.479848</td>\n",
       "      <td>1.00</td>\n",
       "      <td>13104.509886</td>\n",
       "      <td>228.940962</td>\n",
       "    </tr>\n",
       "    <tr>\n",
       "      <th>3</th>\n",
       "      <td>46.987644</td>\n",
       "      <td>25.937669</td>\n",
       "      <td>51.770535</td>\n",
       "      <td>104.418278</td>\n",
       "      <td>110.166680</td>\n",
       "      <td>131.375741</td>\n",
       "      <td>159.650037</td>\n",
       "      <td>188.861367</td>\n",
       "      <td>217.608744</td>\n",
       "      <td>8.786664</td>\n",
       "      <td>532.585255</td>\n",
       "      <td>4699.287479</td>\n",
       "      <td>0.00</td>\n",
       "      <td>13598.453048</td>\n",
       "      <td>230.162451</td>\n",
       "    </tr>\n",
       "  </tbody>\n",
       "</table>\n",
       "</div>"
      ],
      "text/plain": [
       "                age         5k        10k         20k        half         25k  \\\n",
       "km_group                                                                        \n",
       "5         31.428571  15.808286  31.816286   64.615929   68.100500   81.026643   \n",
       "9         31.037383  18.493832  36.878879   73.907991   77.923645   92.394766   \n",
       "1         30.391026  19.749343  39.342340   78.827131   83.119872   98.631715   \n",
       "6         45.434457  20.035955  39.910262   79.973820   84.329925  100.039963   \n",
       "8         32.225070  21.398925  42.617721   85.479348   90.167933  107.235811   \n",
       "10        47.545099  22.574648  44.960991   90.146577   95.083097  112.990004   \n",
       "4         33.912385  22.977661  45.730428   91.585264   96.587714  114.713933   \n",
       "7         31.848415  25.094571  50.071341  100.858016  106.434221  126.936523   \n",
       "2         51.738783  24.820350  49.678084  100.475878  106.062430  126.773943   \n",
       "3         46.987644  25.937669  51.770535  104.418278  110.166680  131.375741   \n",
       "\n",
       "                 30k         35k         40k      pace     division  \\\n",
       "km_group                                                              \n",
       "5          98.447071  116.345500  133.392143  5.396857    40.421429   \n",
       "9         111.459159  130.887477  150.528411  6.083785   178.677570   \n",
       "1         119.069647  139.962067  161.042244  6.504247   649.516026   \n",
       "6         120.716217  141.760712  162.803109  6.575318    84.711610   \n",
       "8         130.077070  154.016284  178.767047  7.238100  2046.369359   \n",
       "10        136.759968  161.311499  186.045643  7.520842   578.572798   \n",
       "4         138.639091  163.101192  187.363090  7.559960   517.288538   \n",
       "7         154.388420  182.912738  211.340257  8.533996  2478.969683   \n",
       "2         154.926928  184.897901  215.677612  8.740255  1153.030798   \n",
       "3         159.650037  188.861367  217.608744  8.786664   532.585255   \n",
       "\n",
       "            genderdiv  gender       overall    official  \n",
       "km_group                                                 \n",
       "5           57.064286    0.95     64.264286  141.327357  \n",
       "9          242.803738    1.00    261.808411  159.290140  \n",
       "1          818.229167    1.00    866.315705  170.318734  \n",
       "6          984.295880    1.00   1043.000000  172.193745  \n",
       "8         3379.893036    1.00   3860.015042  189.570908  \n",
       "10        4531.565696    1.00   5357.440696  196.976776  \n",
       "4          868.869565    0.00   5569.884058  198.003498  \n",
       "7         3746.512632    0.00  11886.433165  223.535531  \n",
       "2         8682.479848    1.00  13104.509886  228.940962  \n",
       "3         4699.287479    0.00  13598.453048  230.162451  "
      ]
     },
     "execution_count": 67,
     "metadata": {},
     "output_type": "execute_result"
    }
   ],
   "source": [
    "# using groupby on clusters\n",
    "features.groupby(['km_group']).mean().sort_values('official')"
   ]
  },
  {
   "cell_type": "code",
   "execution_count": 68,
   "metadata": {},
   "outputs": [
    {
     "name": "stdout",
     "output_type": "stream",
     "text": [
      "The order of groups from fastest to slowest from their official times are Int64Index([5, 9, 1, 6, 8, 10, 4, 7, 2, 3], dtype='int64', name='km_group')\n"
     ]
    }
   ],
   "source": [
    "print('The order of groups from fastest to slowest from their official times are', features.groupby(['km_group']).mean().sort_values('official').index)"
   ]
  },
  {
   "cell_type": "code",
   "execution_count": 59,
   "metadata": {},
   "outputs": [
    {
     "data": {
      "image/png": "[encoded data removed]",
      "text/plain": [
       "<matplotlib.figure.Figure at 0x1327bb40710>"
      ]
     },
     "metadata": {},
     "output_type": "display_data"
    }
   ],
   "source": [
    "# checking groups pace and gender\n",
    "sns.barplot(x='km_group', y='pace', data=features, hue='gender')\n",
    "plt.title('Cluster Pace')\n",
    "plt.show()"
   ]
  },
  {
   "cell_type": "markdown",
   "metadata": {},
   "source": [
    "Using this bar graph we can tell a lot about the groups that were created using k-means.  First of all, we can see that every group other than group 5 represents a single sex. While group 5 is a combination of the fastest athletes."
   ]
  },
  {
   "cell_type": "code",
   "execution_count": 61,
   "metadata": {},
   "outputs": [
    {
     "data": {
      "text/plain": [
       "1    133\n",
       "0      7\n",
       "Name: gender, dtype: int64"
      ]
     },
     "execution_count": 61,
     "metadata": {},
     "output_type": "execute_result"
    }
   ],
   "source": [
    "# looking at the fastest group in greater dept\n",
    "features[features['km_group'] == 5]['gender'].value_counts()"
   ]
  },
  {
   "cell_type": "code",
   "execution_count": 60,
   "metadata": {},
   "outputs": [
    {
     "data": {
      "image/png": "[encoded data removed]",
      "text/plain": [
       "<matplotlib.figure.Figure at 0x1327ba03710>"
      ]
     },
     "metadata": {},
     "output_type": "display_data"
    }
   ],
   "source": [
    "# plotting average age for groups.\n",
    "sns.barplot(x='km_group', y='age', data=features,palette='winter')\n",
    "plt.title('Cluster Age')\n",
    "plt.show()"
   ]
  },
  {
   "cell_type": "markdown",
   "metadata": {},
   "source": [
    "Looking at the average ages of each group it is no suprise that the lower the average age the faster the group tended to be.  However, group 7 didn't follow this pattern.  They were one of the younger groups but still have the second slowest average. It would be interesting to see more data on these athelets to get insight into why this might be. The only other data we have currently is that this was a cluster of female athelets around 32 years old.  The other group that strayed from this pattern was group 6, 45 year old males.  Even though they were older they were still in the top 3 groups.  "
   ]
  },
  {
   "cell_type": "code",
   "execution_count": 69,
   "metadata": {
    "collapsed": true
   },
   "outputs": [],
   "source": [
    "df['km_group'] = features['km_group']"
   ]
  },
  {
   "cell_type": "code",
   "execution_count": 79,
   "metadata": {},
   "outputs": [
    {
     "data": {
      "text/plain": [
       "MA    19\n",
       "IL    16\n",
       "CA    12\n",
       "WA     7\n",
       "CO     7\n",
       "Name: state, dtype: int64"
      ]
     },
     "execution_count": 79,
     "metadata": {},
     "output_type": "execute_result"
    }
   ],
   "source": [
    "df[df['km_group'] == 5]['state'].value_counts().head()"
   ]
  },
  {
   "cell_type": "markdown",
   "metadata": {},
   "source": [
    "Last, we can see the top 5 states the fastest runners came from."
   ]
  },
  {
   "cell_type": "code",
   "execution_count": null,
   "metadata": {
    "collapsed": true
   },
   "outputs": [],
   "source": []
  }
 ],
 "metadata": {
  "kernelspec": {
   "display_name": "Python 3",
   "language": "python",
   "name": "python3"
  },
  "language_info": {
   "codemirror_mode": {
    "name": "ipython",
    "version": 3
   },
   "file_extension": ".py",
   "mimetype": "text/x-python",
   "name": "python",
   "nbconvert_exporter": "python",
   "pygments_lexer": "ipython3",
   "version": "3.6.1"
  }
 },
 "nbformat": 4,
 "nbformat_minor": 2
}
